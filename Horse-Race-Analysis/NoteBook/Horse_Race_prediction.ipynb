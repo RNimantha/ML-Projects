{
  "cells": [
    {
      "cell_type": "markdown",
      "source": [
        "# **Importing libraries,Exploratory data Analysis,and Feature engineering**"
      ],
      "metadata": {
        "id": "VaP1ZBP5qtmI"
      }
    },
    {
      "cell_type": "code",
      "execution_count": 1,
      "metadata": {
        "id": "r5-yoDQNpbmc"
      },
      "outputs": [],
      "source": [
        "import pandas as pd\n",
        "\n",
        "# Load data from CSV file\n",
        "data = pd.read_excel(\"Final Project Dataset.xlsx\", sheet_name=\"Final Project Dataset\")"
      ]
    },
    {
      "cell_type": "code",
      "execution_count": 2,
      "metadata": {
        "colab": {
          "base_uri": "https://localhost:8080/",
          "height": 400
        },
        "id": "i3rCNw0wpbmf",
        "outputId": "c5009163-fb28-4ed9-af44-f4b9583bc292"
      },
      "outputs": [
        {
          "output_type": "execute_result",
          "data": {
            "text/plain": [
              "   id  id_race  id_horse       horse_name             jockey          trainer  \\\n",
              "0   1   236933    268310   Roger Pol(IRE)      Gavin Sheehan    Jamie Snowden   \n",
              "1   2   236933    270046   Call The Dance  Nico de Boinville  Nicky Henderson   \n",
              "2   3   236933    271305  Hiero Sport(FR)       Kielan Woods       Alex Hales   \n",
              "3   4   236933    268599   Largy Ray(IRE)          Ben Poste     Clare Hobson   \n",
              "4   5   236933    270748    Borodale(IRE)         Sean Bowen      Olly Murphy   \n",
              "\n",
              "   age               weight  number  last_ran_days_ago  non_runner    form  \\\n",
              "0    5  2024-11-04 00:00:00       5               30.0           0  1931-2   \n",
              "1    5  2024-10-11 00:00:00       7              187.0           0     41-   \n",
              "2    6  2024-11-04 00:00:00       3              217.0           0      2-   \n",
              "3    5  2024-11-04 00:00:00       4               15.0           0  575-1R   \n",
              "4    5  2024-11-04 00:00:00       1               24.0           0    44-5   \n",
              "\n",
              "  position distance_beaten                             owner  \\\n",
              "0        1             NaN  Cobbold Allen Ogilvy Shaw Morley   \n",
              "1        2            2.75       James &amp; Jean Potter Ltd   \n",
              "2        3              38                               NaN   \n",
              "3        4              30  Raymond Scullion/Martin McGrogan   \n",
              "4       bd             NaN             Mrs Diana L. Whateley   \n",
              "\n",
              "                sire                   dam  official_rating  starting_price  \\\n",
              "0       SHANTOU(USA)            LAREN(GER)              NaN            1.80   \n",
              "1          KAYF TARA                  HORA              NaN            2.62   \n",
              "2                NaN                   NaN              NaN           10.00   \n",
              "3          WESTERNER            DEBUT(IRE)              NaN          101.00   \n",
              "4  FLEMENSFIRTH(USA)  PORTRYAN NATIVE(IRE)              NaN           21.00   \n",
              "\n",
              "   price  \n",
              "0  £4629  \n",
              "1  £4629  \n",
              "2  £4629  \n",
              "3  £4629  \n",
              "4  £4629  "
            ],
            "text/html": [
              "\n",
              "  <div id=\"df-8bacf62c-7e8b-4955-823c-1c774039ca91\" class=\"colab-df-container\">\n",
              "    <div>\n",
              "<style scoped>\n",
              "    .dataframe tbody tr th:only-of-type {\n",
              "        vertical-align: middle;\n",
              "    }\n",
              "\n",
              "    .dataframe tbody tr th {\n",
              "        vertical-align: top;\n",
              "    }\n",
              "\n",
              "    .dataframe thead th {\n",
              "        text-align: right;\n",
              "    }\n",
              "</style>\n",
              "<table border=\"1\" class=\"dataframe\">\n",
              "  <thead>\n",
              "    <tr style=\"text-align: right;\">\n",
              "      <th></th>\n",
              "      <th>id</th>\n",
              "      <th>id_race</th>\n",
              "      <th>id_horse</th>\n",
              "      <th>horse_name</th>\n",
              "      <th>jockey</th>\n",
              "      <th>trainer</th>\n",
              "      <th>age</th>\n",
              "      <th>weight</th>\n",
              "      <th>number</th>\n",
              "      <th>last_ran_days_ago</th>\n",
              "      <th>non_runner</th>\n",
              "      <th>form</th>\n",
              "      <th>position</th>\n",
              "      <th>distance_beaten</th>\n",
              "      <th>owner</th>\n",
              "      <th>sire</th>\n",
              "      <th>dam</th>\n",
              "      <th>official_rating</th>\n",
              "      <th>starting_price</th>\n",
              "      <th>price</th>\n",
              "    </tr>\n",
              "  </thead>\n",
              "  <tbody>\n",
              "    <tr>\n",
              "      <th>0</th>\n",
              "      <td>1</td>\n",
              "      <td>236933</td>\n",
              "      <td>268310</td>\n",
              "      <td>Roger Pol(IRE)</td>\n",
              "      <td>Gavin Sheehan</td>\n",
              "      <td>Jamie Snowden</td>\n",
              "      <td>5</td>\n",
              "      <td>2024-11-04 00:00:00</td>\n",
              "      <td>5</td>\n",
              "      <td>30.0</td>\n",
              "      <td>0</td>\n",
              "      <td>1931-2</td>\n",
              "      <td>1</td>\n",
              "      <td>NaN</td>\n",
              "      <td>Cobbold Allen Ogilvy Shaw Morley</td>\n",
              "      <td>SHANTOU(USA)</td>\n",
              "      <td>LAREN(GER)</td>\n",
              "      <td>NaN</td>\n",
              "      <td>1.80</td>\n",
              "      <td>£4629</td>\n",
              "    </tr>\n",
              "    <tr>\n",
              "      <th>1</th>\n",
              "      <td>2</td>\n",
              "      <td>236933</td>\n",
              "      <td>270046</td>\n",
              "      <td>Call The Dance</td>\n",
              "      <td>Nico de Boinville</td>\n",
              "      <td>Nicky Henderson</td>\n",
              "      <td>5</td>\n",
              "      <td>2024-10-11 00:00:00</td>\n",
              "      <td>7</td>\n",
              "      <td>187.0</td>\n",
              "      <td>0</td>\n",
              "      <td>41-</td>\n",
              "      <td>2</td>\n",
              "      <td>2.75</td>\n",
              "      <td>James &amp;amp; Jean Potter Ltd</td>\n",
              "      <td>KAYF TARA</td>\n",
              "      <td>HORA</td>\n",
              "      <td>NaN</td>\n",
              "      <td>2.62</td>\n",
              "      <td>£4629</td>\n",
              "    </tr>\n",
              "    <tr>\n",
              "      <th>2</th>\n",
              "      <td>3</td>\n",
              "      <td>236933</td>\n",
              "      <td>271305</td>\n",
              "      <td>Hiero Sport(FR)</td>\n",
              "      <td>Kielan Woods</td>\n",
              "      <td>Alex Hales</td>\n",
              "      <td>6</td>\n",
              "      <td>2024-11-04 00:00:00</td>\n",
              "      <td>3</td>\n",
              "      <td>217.0</td>\n",
              "      <td>0</td>\n",
              "      <td>2-</td>\n",
              "      <td>3</td>\n",
              "      <td>38</td>\n",
              "      <td>NaN</td>\n",
              "      <td>NaN</td>\n",
              "      <td>NaN</td>\n",
              "      <td>NaN</td>\n",
              "      <td>10.00</td>\n",
              "      <td>£4629</td>\n",
              "    </tr>\n",
              "    <tr>\n",
              "      <th>3</th>\n",
              "      <td>4</td>\n",
              "      <td>236933</td>\n",
              "      <td>268599</td>\n",
              "      <td>Largy Ray(IRE)</td>\n",
              "      <td>Ben Poste</td>\n",
              "      <td>Clare Hobson</td>\n",
              "      <td>5</td>\n",
              "      <td>2024-11-04 00:00:00</td>\n",
              "      <td>4</td>\n",
              "      <td>15.0</td>\n",
              "      <td>0</td>\n",
              "      <td>575-1R</td>\n",
              "      <td>4</td>\n",
              "      <td>30</td>\n",
              "      <td>Raymond Scullion/Martin McGrogan</td>\n",
              "      <td>WESTERNER</td>\n",
              "      <td>DEBUT(IRE)</td>\n",
              "      <td>NaN</td>\n",
              "      <td>101.00</td>\n",
              "      <td>£4629</td>\n",
              "    </tr>\n",
              "    <tr>\n",
              "      <th>4</th>\n",
              "      <td>5</td>\n",
              "      <td>236933</td>\n",
              "      <td>270748</td>\n",
              "      <td>Borodale(IRE)</td>\n",
              "      <td>Sean Bowen</td>\n",
              "      <td>Olly Murphy</td>\n",
              "      <td>5</td>\n",
              "      <td>2024-11-04 00:00:00</td>\n",
              "      <td>1</td>\n",
              "      <td>24.0</td>\n",
              "      <td>0</td>\n",
              "      <td>44-5</td>\n",
              "      <td>bd</td>\n",
              "      <td>NaN</td>\n",
              "      <td>Mrs Diana L. Whateley</td>\n",
              "      <td>FLEMENSFIRTH(USA)</td>\n",
              "      <td>PORTRYAN NATIVE(IRE)</td>\n",
              "      <td>NaN</td>\n",
              "      <td>21.00</td>\n",
              "      <td>£4629</td>\n",
              "    </tr>\n",
              "  </tbody>\n",
              "</table>\n",
              "</div>\n",
              "    <div class=\"colab-df-buttons\">\n",
              "\n",
              "  <div class=\"colab-df-container\">\n",
              "    <button class=\"colab-df-convert\" onclick=\"convertToInteractive('df-8bacf62c-7e8b-4955-823c-1c774039ca91')\"\n",
              "            title=\"Convert this dataframe to an interactive table.\"\n",
              "            style=\"display:none;\">\n",
              "\n",
              "  <svg xmlns=\"http://www.w3.org/2000/svg\" height=\"24px\" viewBox=\"0 -960 960 960\">\n",
              "    <path d=\"M120-120v-720h720v720H120Zm60-500h600v-160H180v160Zm220 220h160v-160H400v160Zm0 220h160v-160H400v160ZM180-400h160v-160H180v160Zm440 0h160v-160H620v160ZM180-180h160v-160H180v160Zm440 0h160v-160H620v160Z\"/>\n",
              "  </svg>\n",
              "    </button>\n",
              "\n",
              "  <style>\n",
              "    .colab-df-container {\n",
              "      display:flex;\n",
              "      gap: 12px;\n",
              "    }\n",
              "\n",
              "    .colab-df-convert {\n",
              "      background-color: #E8F0FE;\n",
              "      border: none;\n",
              "      border-radius: 50%;\n",
              "      cursor: pointer;\n",
              "      display: none;\n",
              "      fill: #1967D2;\n",
              "      height: 32px;\n",
              "      padding: 0 0 0 0;\n",
              "      width: 32px;\n",
              "    }\n",
              "\n",
              "    .colab-df-convert:hover {\n",
              "      background-color: #E2EBFA;\n",
              "      box-shadow: 0px 1px 2px rgba(60, 64, 67, 0.3), 0px 1px 3px 1px rgba(60, 64, 67, 0.15);\n",
              "      fill: #174EA6;\n",
              "    }\n",
              "\n",
              "    .colab-df-buttons div {\n",
              "      margin-bottom: 4px;\n",
              "    }\n",
              "\n",
              "    [theme=dark] .colab-df-convert {\n",
              "      background-color: #3B4455;\n",
              "      fill: #D2E3FC;\n",
              "    }\n",
              "\n",
              "    [theme=dark] .colab-df-convert:hover {\n",
              "      background-color: #434B5C;\n",
              "      box-shadow: 0px 1px 3px 1px rgba(0, 0, 0, 0.15);\n",
              "      filter: drop-shadow(0px 1px 2px rgba(0, 0, 0, 0.3));\n",
              "      fill: #FFFFFF;\n",
              "    }\n",
              "  </style>\n",
              "\n",
              "    <script>\n",
              "      const buttonEl =\n",
              "        document.querySelector('#df-8bacf62c-7e8b-4955-823c-1c774039ca91 button.colab-df-convert');\n",
              "      buttonEl.style.display =\n",
              "        google.colab.kernel.accessAllowed ? 'block' : 'none';\n",
              "\n",
              "      async function convertToInteractive(key) {\n",
              "        const element = document.querySelector('#df-8bacf62c-7e8b-4955-823c-1c774039ca91');\n",
              "        const dataTable =\n",
              "          await google.colab.kernel.invokeFunction('convertToInteractive',\n",
              "                                                    [key], {});\n",
              "        if (!dataTable) return;\n",
              "\n",
              "        const docLinkHtml = 'Like what you see? Visit the ' +\n",
              "          '<a target=\"_blank\" href=https://colab.research.google.com/notebooks/data_table.ipynb>data table notebook</a>'\n",
              "          + ' to learn more about interactive tables.';\n",
              "        element.innerHTML = '';\n",
              "        dataTable['output_type'] = 'display_data';\n",
              "        await google.colab.output.renderOutput(dataTable, element);\n",
              "        const docLink = document.createElement('div');\n",
              "        docLink.innerHTML = docLinkHtml;\n",
              "        element.appendChild(docLink);\n",
              "      }\n",
              "    </script>\n",
              "  </div>\n",
              "\n",
              "\n",
              "<div id=\"df-5dd2b81b-bacf-49b7-939b-41f37bb5a504\">\n",
              "  <button class=\"colab-df-quickchart\" onclick=\"quickchart('df-5dd2b81b-bacf-49b7-939b-41f37bb5a504')\"\n",
              "            title=\"Suggest charts\"\n",
              "            style=\"display:none;\">\n",
              "\n",
              "<svg xmlns=\"http://www.w3.org/2000/svg\" height=\"24px\"viewBox=\"0 0 24 24\"\n",
              "     width=\"24px\">\n",
              "    <g>\n",
              "        <path d=\"M19 3H5c-1.1 0-2 .9-2 2v14c0 1.1.9 2 2 2h14c1.1 0 2-.9 2-2V5c0-1.1-.9-2-2-2zM9 17H7v-7h2v7zm4 0h-2V7h2v10zm4 0h-2v-4h2v4z\"/>\n",
              "    </g>\n",
              "</svg>\n",
              "  </button>\n",
              "\n",
              "<style>\n",
              "  .colab-df-quickchart {\n",
              "      --bg-color: #E8F0FE;\n",
              "      --fill-color: #1967D2;\n",
              "      --hover-bg-color: #E2EBFA;\n",
              "      --hover-fill-color: #174EA6;\n",
              "      --disabled-fill-color: #AAA;\n",
              "      --disabled-bg-color: #DDD;\n",
              "  }\n",
              "\n",
              "  [theme=dark] .colab-df-quickchart {\n",
              "      --bg-color: #3B4455;\n",
              "      --fill-color: #D2E3FC;\n",
              "      --hover-bg-color: #434B5C;\n",
              "      --hover-fill-color: #FFFFFF;\n",
              "      --disabled-bg-color: #3B4455;\n",
              "      --disabled-fill-color: #666;\n",
              "  }\n",
              "\n",
              "  .colab-df-quickchart {\n",
              "    background-color: var(--bg-color);\n",
              "    border: none;\n",
              "    border-radius: 50%;\n",
              "    cursor: pointer;\n",
              "    display: none;\n",
              "    fill: var(--fill-color);\n",
              "    height: 32px;\n",
              "    padding: 0;\n",
              "    width: 32px;\n",
              "  }\n",
              "\n",
              "  .colab-df-quickchart:hover {\n",
              "    background-color: var(--hover-bg-color);\n",
              "    box-shadow: 0 1px 2px rgba(60, 64, 67, 0.3), 0 1px 3px 1px rgba(60, 64, 67, 0.15);\n",
              "    fill: var(--button-hover-fill-color);\n",
              "  }\n",
              "\n",
              "  .colab-df-quickchart-complete:disabled,\n",
              "  .colab-df-quickchart-complete:disabled:hover {\n",
              "    background-color: var(--disabled-bg-color);\n",
              "    fill: var(--disabled-fill-color);\n",
              "    box-shadow: none;\n",
              "  }\n",
              "\n",
              "  .colab-df-spinner {\n",
              "    border: 2px solid var(--fill-color);\n",
              "    border-color: transparent;\n",
              "    border-bottom-color: var(--fill-color);\n",
              "    animation:\n",
              "      spin 1s steps(1) infinite;\n",
              "  }\n",
              "\n",
              "  @keyframes spin {\n",
              "    0% {\n",
              "      border-color: transparent;\n",
              "      border-bottom-color: var(--fill-color);\n",
              "      border-left-color: var(--fill-color);\n",
              "    }\n",
              "    20% {\n",
              "      border-color: transparent;\n",
              "      border-left-color: var(--fill-color);\n",
              "      border-top-color: var(--fill-color);\n",
              "    }\n",
              "    30% {\n",
              "      border-color: transparent;\n",
              "      border-left-color: var(--fill-color);\n",
              "      border-top-color: var(--fill-color);\n",
              "      border-right-color: var(--fill-color);\n",
              "    }\n",
              "    40% {\n",
              "      border-color: transparent;\n",
              "      border-right-color: var(--fill-color);\n",
              "      border-top-color: var(--fill-color);\n",
              "    }\n",
              "    60% {\n",
              "      border-color: transparent;\n",
              "      border-right-color: var(--fill-color);\n",
              "    }\n",
              "    80% {\n",
              "      border-color: transparent;\n",
              "      border-right-color: var(--fill-color);\n",
              "      border-bottom-color: var(--fill-color);\n",
              "    }\n",
              "    90% {\n",
              "      border-color: transparent;\n",
              "      border-bottom-color: var(--fill-color);\n",
              "    }\n",
              "  }\n",
              "</style>\n",
              "\n",
              "  <script>\n",
              "    async function quickchart(key) {\n",
              "      const quickchartButtonEl =\n",
              "        document.querySelector('#' + key + ' button');\n",
              "      quickchartButtonEl.disabled = true;  // To prevent multiple clicks.\n",
              "      quickchartButtonEl.classList.add('colab-df-spinner');\n",
              "      try {\n",
              "        const charts = await google.colab.kernel.invokeFunction(\n",
              "            'suggestCharts', [key], {});\n",
              "      } catch (error) {\n",
              "        console.error('Error during call to suggestCharts:', error);\n",
              "      }\n",
              "      quickchartButtonEl.classList.remove('colab-df-spinner');\n",
              "      quickchartButtonEl.classList.add('colab-df-quickchart-complete');\n",
              "    }\n",
              "    (() => {\n",
              "      let quickchartButtonEl =\n",
              "        document.querySelector('#df-5dd2b81b-bacf-49b7-939b-41f37bb5a504 button');\n",
              "      quickchartButtonEl.style.display =\n",
              "        google.colab.kernel.accessAllowed ? 'block' : 'none';\n",
              "    })();\n",
              "  </script>\n",
              "</div>\n",
              "\n",
              "    </div>\n",
              "  </div>\n"
            ],
            "application/vnd.google.colaboratory.intrinsic+json": {
              "type": "dataframe",
              "variable_name": "data",
              "summary": "{\n  \"name\": \"data\",\n  \"rows\": 11594,\n  \"fields\": [\n    {\n      \"column\": \"id\",\n      \"properties\": {\n        \"dtype\": \"number\",\n        \"std\": 3351,\n        \"min\": 1,\n        \"max\": 11635,\n        \"num_unique_values\": 11594,\n        \"samples\": [\n          4814,\n          4716,\n          4440\n        ],\n        \"semantic_type\": \"\",\n        \"description\": \"\"\n      }\n    },\n    {\n      \"column\": \"id_race\",\n      \"properties\": {\n        \"dtype\": \"number\",\n        \"std\": 308,\n        \"min\": 236933,\n        \"max\": 238028,\n        \"num_unique_values\": 1053,\n        \"samples\": [\n          237349,\n          237051,\n          237934\n        ],\n        \"semantic_type\": \"\",\n        \"description\": \"\"\n      }\n    },\n    {\n      \"column\": \"id_horse\",\n      \"properties\": {\n        \"dtype\": \"number\",\n        \"std\": 19578,\n        \"min\": 52113,\n        \"max\": 278439,\n        \"num_unique_values\": 8446,\n        \"samples\": [\n          247917,\n          251230,\n          276634\n        ],\n        \"semantic_type\": \"\",\n        \"description\": \"\"\n      }\n    },\n    {\n      \"column\": \"horse_name\",\n      \"properties\": {\n        \"dtype\": \"string\",\n        \"num_unique_values\": 8446,\n        \"samples\": [\n          \"Ertikaaz(IRE)\",\n          \"Petit King(FR)\",\n          \"Starry Dew\"\n        ],\n        \"semantic_type\": \"\",\n        \"description\": \"\"\n      }\n    },\n    {\n      \"column\": \"jockey\",\n      \"properties\": {\n        \"dtype\": \"category\",\n        \"num_unique_values\": 677,\n        \"samples\": [\n          \"Mr E. Mahon\",\n          \"Nathan Moscrop\",\n          \"Kieran ONeill\"\n        ],\n        \"semantic_type\": \"\",\n        \"description\": \"\"\n      }\n    },\n    {\n      \"column\": \"trainer\",\n      \"properties\": {\n        \"dtype\": \"category\",\n        \"num_unique_values\": 862,\n        \"samples\": [\n          \"Ray Hackett, Ireland\",\n          \"Peter John Flood, Ireland\",\n          \"Pat Phelan\"\n        ],\n        \"semantic_type\": \"\",\n        \"description\": \"\"\n      }\n    },\n    {\n      \"column\": \"age\",\n      \"properties\": {\n        \"dtype\": \"number\",\n        \"std\": 2,\n        \"min\": 2,\n        \"max\": 14,\n        \"num_unique_values\": 13,\n        \"samples\": [\n          13,\n          10,\n          5\n        ],\n        \"semantic_type\": \"\",\n        \"description\": \"\"\n      }\n    },\n    {\n      \"column\": \"weight\",\n      \"properties\": {\n        \"dtype\": \"category\",\n        \"num_unique_values\": 148,\n        \"samples\": [\n          \"11-95ex\",\n          \"2024-10-03 00:00:00\",\n          \"10-5 (10-1)\"\n        ],\n        \"semantic_type\": \"\",\n        \"description\": \"\"\n      }\n    },\n    {\n      \"column\": \"number\",\n      \"properties\": {\n        \"dtype\": \"number\",\n        \"std\": 4,\n        \"min\": 1,\n        \"max\": 25,\n        \"num_unique_values\": 25,\n        \"samples\": [\n          9,\n          17,\n          5\n        ],\n        \"semantic_type\": \"\",\n        \"description\": \"\"\n      }\n    },\n    {\n      \"column\": \"last_ran_days_ago\",\n      \"properties\": {\n        \"dtype\": \"number\",\n        \"std\": 109.17236484377392,\n        \"min\": 1.0,\n        \"max\": 1194.0,\n        \"num_unique_values\": 513,\n        \"samples\": [\n          260.0,\n          665.0,\n          362.0\n        ],\n        \"semantic_type\": \"\",\n        \"description\": \"\"\n      }\n    },\n    {\n      \"column\": \"non_runner\",\n      \"properties\": {\n        \"dtype\": \"number\",\n        \"std\": 0,\n        \"min\": 0,\n        \"max\": 1,\n        \"num_unique_values\": 2,\n        \"samples\": [\n          1,\n          0\n        ],\n        \"semantic_type\": \"\",\n        \"description\": \"\"\n      }\n    },\n    {\n      \"column\": \"form\",\n      \"properties\": {\n        \"dtype\": \"string\",\n        \"num_unique_values\": 8102,\n        \"samples\": [\n          \"1/25031-11\",\n          16283124\n        ],\n        \"semantic_type\": \"\",\n        \"description\": \"\"\n      }\n    },\n    {\n      \"column\": \"position\",\n      \"properties\": {\n        \"dtype\": \"category\",\n        \"num_unique_values\": 31,\n        \"samples\": [\n          22,\n          \"ur\"\n        ],\n        \"semantic_type\": \"\",\n        \"description\": \"\"\n      }\n    },\n    {\n      \"column\": \"distance_beaten\",\n      \"properties\": {\n        \"dtype\": \"category\",\n        \"num_unique_values\": 102,\n        \"samples\": [\n          8,\n          56\n        ],\n        \"semantic_type\": \"\",\n        \"description\": \"\"\n      }\n    },\n    {\n      \"column\": \"owner\",\n      \"properties\": {\n        \"dtype\": \"category\",\n        \"num_unique_values\": 4201,\n        \"samples\": [\n          \"Mr Jerry Hinds &amp; Mr Ashley Head\",\n          \"ValueRacingClub.co.uk\"\n        ],\n        \"semantic_type\": \"\",\n        \"description\": \"\"\n      }\n    },\n    {\n      \"column\": \"sire\",\n      \"properties\": {\n        \"dtype\": \"category\",\n        \"num_unique_values\": 676,\n        \"samples\": [\n          \"LILBOURNE LAD(IRE)\",\n          \"BLUE BRESIL(FR)\"\n        ],\n        \"semantic_type\": \"\",\n        \"description\": \"\"\n      }\n    },\n    {\n      \"column\": \"dam\",\n      \"properties\": {\n        \"dtype\": \"category\",\n        \"num_unique_values\": 5332,\n        \"samples\": [\n          \"GIVE HER BACH(IRE)\",\n          \"ANNA SUPREME(IRE)\"\n        ],\n        \"semantic_type\": \"\",\n        \"description\": \"\"\n      }\n    },\n    {\n      \"column\": \"official_rating\",\n      \"properties\": {\n        \"dtype\": \"number\",\n        \"std\": 25.45075455121391,\n        \"min\": 42.0,\n        \"max\": 165.0,\n        \"num_unique_values\": 116,\n        \"samples\": [\n          125.0,\n          98.0\n        ],\n        \"semantic_type\": \"\",\n        \"description\": \"\"\n      }\n    },\n    {\n      \"column\": \"starting_price\",\n      \"properties\": {\n        \"dtype\": \"number\",\n        \"std\": 52.8622397311338,\n        \"min\": 1.08,\n        \"max\": 501.0,\n        \"num_unique_values\": 79,\n        \"samples\": [\n          3.0,\n          1.8\n        ],\n        \"semantic_type\": \"\",\n        \"description\": \"\"\n      }\n    },\n    {\n      \"column\": \"price\",\n      \"properties\": {\n        \"dtype\": \"category\",\n        \"num_unique_values\": 223,\n        \"samples\": [\n          \"\\u00a36281\",\n          40000\n        ],\n        \"semantic_type\": \"\",\n        \"description\": \"\"\n      }\n    }\n  ]\n}"
            }
          },
          "metadata": {},
          "execution_count": 2
        }
      ],
      "source": [
        "data.head()"
      ]
    },
    {
      "cell_type": "code",
      "execution_count": 3,
      "metadata": {
        "id": "zOtHpUw5pbmi"
      },
      "outputs": [],
      "source": [
        "# features_to_drop = [\"id\", \"id_race\", \"id_horse\", \"weight\", \"distance_beaten\", \"position\", \"form\"]\n",
        "\n",
        "features = [\"age\",\t\"last_ran_days_ago\", \"non_runner\", \"official_rating\", \"starting_price\", \"position\"]"
      ]
    },
    {
      "cell_type": "code",
      "execution_count": 4,
      "metadata": {
        "id": "lN4K69Oepbmi"
      },
      "outputs": [],
      "source": [
        "new_df = data[features].dropna()\n"
      ]
    },
    {
      "cell_type": "code",
      "execution_count": 5,
      "metadata": {
        "colab": {
          "base_uri": "https://localhost:8080/"
        },
        "id": "Ikd8-C8Spbmj",
        "outputId": "819ef557-0adc-4bd1-8b23-a0f445dbfdae"
      },
      "outputs": [
        {
          "output_type": "stream",
          "name": "stdout",
          "text": [
            "<class 'pandas.core.frame.DataFrame'>\n",
            "Int64Index: 6679 entries, 61 to 11590\n",
            "Data columns (total 6 columns):\n",
            " #   Column             Non-Null Count  Dtype  \n",
            "---  ------             --------------  -----  \n",
            " 0   age                6679 non-null   int64  \n",
            " 1   last_ran_days_ago  6679 non-null   float64\n",
            " 2   non_runner         6679 non-null   int64  \n",
            " 3   official_rating    6679 non-null   float64\n",
            " 4   starting_price     6679 non-null   float64\n",
            " 5   position           6679 non-null   object \n",
            "dtypes: float64(3), int64(2), object(1)\n",
            "memory usage: 365.3+ KB\n"
          ]
        }
      ],
      "source": [
        "new_df.info()"
      ]
    },
    {
      "cell_type": "code",
      "execution_count": 6,
      "metadata": {
        "id": "NFqDB625pbmk"
      },
      "outputs": [],
      "source": [
        "y = new_df['position']\n",
        "\n",
        "invalid_values = ['ur', 'pu', 'F', 'rr', 'bd', 'R', 'ro']\n",
        "\n",
        "# Filter y to remove rows with invalid values\n",
        "new_df = new_df[~y.isin(invalid_values)]\n",
        "new_df['position'] = new_df['position'].astype(int)\n",
        "\n",
        "X = new_df.drop(\"position\", axis=1)\n",
        "y = new_df['position']\n"
      ]
    },
    {
      "cell_type": "code",
      "execution_count": 7,
      "metadata": {
        "colab": {
          "base_uri": "https://localhost:8080/"
        },
        "id": "_h0vdhC4pbmk",
        "outputId": "e45748d9-d5fc-4cbe-9918-bec77d6320fe"
      },
      "outputs": [
        {
          "output_type": "execute_result",
          "data": {
            "text/plain": [
              "array([ 1,  2,  3,  4,  5,  6,  7,  8,  9, 10, 11, 12, 13, 14, 15, 16, 17,\n",
              "       18, 19, 20, 21, 22])"
            ]
          },
          "metadata": {},
          "execution_count": 7
        }
      ],
      "source": [
        "y.unique()"
      ]
    },
    {
      "cell_type": "markdown",
      "source": [
        "**Model Building without balancing the dataset(tried SVM)**"
      ],
      "metadata": {
        "id": "IxnwXyToqcSb"
      }
    },
    {
      "cell_type": "code",
      "execution_count": 8,
      "metadata": {
        "id": "R4Y6WgOMpbml"
      },
      "outputs": [],
      "source": [
        "# Import necessary libraries\n",
        "from sklearn.model_selection import train_test_split\n",
        "from sklearn.svm import SVC\n",
        "from sklearn.metrics import accuracy_score\n",
        "\n",
        "\n",
        "# Split the dataset into training and testing sets\n",
        "X_train, X_test, y_train, y_test = train_test_split(X, y, test_size=0.2, random_state=42)\n",
        "\n",
        "# Initialize the Support Vector Classifier (SVC) with a linear kernel\n",
        "svm_classifier = SVC()\n",
        "\n",
        "# Train the classifier on the training data\n",
        "svm_classifier.fit(X_train, y_train)\n",
        "\n",
        "# Make predictions on the test data\n",
        "y_pred = svm_classifier.predict(X_test)\n"
      ]
    },
    {
      "cell_type": "code",
      "execution_count": 9,
      "metadata": {
        "colab": {
          "base_uri": "https://localhost:8080/"
        },
        "id": "4eOw4_8Mpbml",
        "outputId": "7fcc3e92-6009-48c3-ec86-8b08a905d96b"
      },
      "outputs": [
        {
          "output_type": "stream",
          "name": "stdout",
          "text": [
            "Accuracy: 0.12469033856317094\n"
          ]
        }
      ],
      "source": [
        "accuracy = accuracy_score(y_test, y_pred)\n",
        "print(\"Accuracy:\", accuracy)"
      ]
    },
    {
      "cell_type": "markdown",
      "source": [
        "**Accuracy seems very very low ,so we have to balance the dataset**"
      ],
      "metadata": {
        "id": "MDS2h9i0qk8p"
      }
    },
    {
      "cell_type": "markdown",
      "source": [
        "# **Balancing the dataset**"
      ],
      "metadata": {
        "id": "AeFuoOxspzyL"
      }
    },
    {
      "cell_type": "code",
      "execution_count": 10,
      "metadata": {
        "colab": {
          "base_uri": "https://localhost:8080/"
        },
        "id": "HbKPjZVPpbmm",
        "outputId": "1202f9b4-5a30-482c-9094-d5e4ce2d3b67"
      },
      "outputs": [
        {
          "output_type": "stream",
          "name": "stdout",
          "text": [
            "1     673\n",
            "2     673\n",
            "21    673\n",
            "20    673\n",
            "19    673\n",
            "18    673\n",
            "17    673\n",
            "16    673\n",
            "15    673\n",
            "14    673\n",
            "13    673\n",
            "12    673\n",
            "11    673\n",
            "10    673\n",
            "9     673\n",
            "8     673\n",
            "7     673\n",
            "6     673\n",
            "5     673\n",
            "4     673\n",
            "3     673\n",
            "22    673\n",
            "Name: position, dtype: int64\n"
          ]
        }
      ],
      "source": [
        "import pandas as pd\n",
        "from imblearn.over_sampling import RandomOverSampler\n",
        "\n",
        "# Oversampling the minority classes\n",
        "oversample = RandomOverSampler(sampling_strategy='auto', random_state=42)\n",
        "X_resampled, y_resampled = oversample.fit_resample(X, y)\n",
        "\n",
        "# Creating a DataFrame from the oversampled data\n",
        "# oversampled_df = pd.DataFrame({'position': X_resampled.flatten(), 'count': y_resampled})\n",
        "\n",
        "# print(X_resampled)\n",
        "print(y_resampled.value_counts())\n"
      ]
    },
    {
      "cell_type": "markdown",
      "metadata": {
        "id": "MfnnTkHbpbmn"
      },
      "source": [
        "After Resampling"
      ]
    },
    {
      "cell_type": "markdown",
      "metadata": {
        "id": "1mc1InItpbm6"
      },
      "source": [
        "# **SVM**"
      ]
    },
    {
      "cell_type": "code",
      "execution_count": 11,
      "metadata": {
        "id": "Eq998MU2pbm7"
      },
      "outputs": [],
      "source": [
        "from sklearn.model_selection import train_test_split\n",
        "from sklearn.svm import SVC\n",
        "from sklearn.metrics import accuracy_score\n",
        "\n",
        "\n",
        "# Split the dataset into training and testing sets\n",
        "X_train, X_test, y_train, y_test = train_test_split(X_resampled, y_resampled, test_size=0.2, random_state=42)\n",
        "\n",
        "# Initialize the Support Vector Classifier (SVC) with a linear kernel\n",
        "svm_classifier = SVC()\n",
        "\n",
        "# Train the classifier on the training data\n",
        "svm_classifier.fit(X_train, y_train)\n",
        "\n",
        "# Make predictions on the test data\n",
        "y_pred = svm_classifier.predict(X_test)\n"
      ]
    },
    {
      "cell_type": "code",
      "execution_count": 12,
      "metadata": {
        "colab": {
          "base_uri": "https://localhost:8080/"
        },
        "id": "mg-wviQspbm8",
        "outputId": "6401bc69-1966-40a0-bba0-82de06ed0208"
      },
      "outputs": [
        {
          "output_type": "stream",
          "name": "stdout",
          "text": [
            "Accuracy: 0.3089128966914247\n"
          ]
        }
      ],
      "source": [
        "# Calculate the accuracy of the model\n",
        "accuracy = accuracy_score(y_test, y_pred)\n",
        "print(\"Accuracy:\", accuracy)"
      ]
    },
    {
      "cell_type": "markdown",
      "metadata": {
        "id": "nhElH5YOpbm9"
      },
      "source": [
        "# **GradientBoostingClassifier**"
      ]
    },
    {
      "cell_type": "code",
      "execution_count": 13,
      "metadata": {
        "colab": {
          "base_uri": "https://localhost:8080/"
        },
        "id": "46tGDXktpbm-",
        "outputId": "e84c41a7-c2cc-4fb1-9af9-bbe5f86ad3e2"
      },
      "outputs": [
        {
          "output_type": "stream",
          "name": "stdout",
          "text": [
            "Accuracy: 0.5344361917623227\n"
          ]
        }
      ],
      "source": [
        "from sklearn.ensemble import GradientBoostingClassifier\n",
        "from sklearn.metrics import accuracy_score\n",
        "\n",
        "# Initialize the Gradient Boosting Classifier\n",
        "gbm = GradientBoostingClassifier(n_estimators=100, learning_rate=0.1, random_state=42)\n",
        "\n",
        "# Train the model\n",
        "gbm.fit(X_train, y_train)\n",
        "\n",
        "# Make predictions on the test set\n",
        "predictions = gbm.predict(X_test)\n",
        "\n",
        "# Calculate accuracy\n",
        "accuracy = accuracy_score(y_test, predictions)\n",
        "print(\"Accuracy:\", accuracy)\n"
      ]
    },
    {
      "cell_type": "markdown",
      "source": [
        "**Evaluate Gradient Boosting**"
      ],
      "metadata": {
        "id": "UzQ5GoDOuIRr"
      }
    },
    {
      "cell_type": "code",
      "execution_count": 14,
      "metadata": {
        "colab": {
          "base_uri": "https://localhost:8080/"
        },
        "id": "cSsBJLmhpbm-",
        "outputId": "93b7ecc4-5f0a-4505-902d-89a6bae2cd90"
      },
      "outputs": [
        {
          "output_type": "stream",
          "name": "stdout",
          "text": [
            "Classification Report:\n",
            "              precision    recall  f1-score   support\n",
            "\n",
            "           1       0.17      0.22      0.19       126\n",
            "           2       0.25      0.17      0.20       164\n",
            "           3       0.15      0.16      0.15       140\n",
            "           4       0.17      0.10      0.13       127\n",
            "           5       0.19      0.14      0.16       129\n",
            "           6       0.10      0.06      0.07       154\n",
            "           7       0.15      0.13      0.14       113\n",
            "           8       0.36      0.17      0.23       151\n",
            "           9       0.31      0.27      0.29       127\n",
            "          10       0.20      0.30      0.24       125\n",
            "          11       0.39      0.48      0.43       158\n",
            "          12       0.51      0.45      0.48       135\n",
            "          13       0.43      0.65      0.52       138\n",
            "          14       0.60      0.66      0.63       149\n",
            "          15       0.74      1.00      0.85       140\n",
            "          16       0.80      1.00      0.89       129\n",
            "          17       0.94      1.00      0.97       128\n",
            "          18       1.00      1.00      1.00       124\n",
            "          19       1.00      1.00      1.00       129\n",
            "          20       1.00      1.00      1.00       134\n",
            "          21       1.00      1.00      1.00       119\n",
            "          22       0.99      1.00      1.00       123\n",
            "\n",
            "    accuracy                           0.53      2962\n",
            "   macro avg       0.52      0.54      0.53      2962\n",
            "weighted avg       0.51      0.53      0.52      2962\n",
            "\n",
            "Confusion Matrix:\n",
            "[[ 28  20  24   9  13   2   5   2   2   8   6   2   0   2   3   0   0   0\n",
            "    0   0   0   0]\n",
            " [ 38  28  22   9  13  12   8   5   5   6   8   2   2   3   1   2   0   0\n",
            "    0   0   0   0]\n",
            " [ 29  14  22   4  10  10  13   5   6  13   6   0   5   0   1   1   0   0\n",
            "    0   0   0   1]\n",
            " [ 15  10  12  13  11  10  14   3   9  10   4   2   8   3   2   1   0   0\n",
            "    0   0   0   0]\n",
            " [ 14  11  12   9  18   7   7   3  14  10   6   3   8   4   2   0   1   0\n",
            "    0   0   0   0]\n",
            " [  8  12  18   6  10   9   6  10   8  20  19   6   6   2   9   5   0   0\n",
            "    0   0   0   0]\n",
            " [ 15   4   4   3   4   3  15   2   6  20   9   9   4   4   5   5   1   0\n",
            "    0   0   0   0]\n",
            " [  5   3   8   8   7   4   4  26   9  17  12  11  19  11   3   3   1   0\n",
            "    0   0   0   0]\n",
            " [  5   3   5   1   6   4   7   2  34  13  14   3  15   6   4   5   0   0\n",
            "    0   0   0   0]\n",
            " [  2   2   7   4   2   3  10   0   6  38  13   6  15   7   5   0   5   0\n",
            "    0   0   0   0]\n",
            " [  5   1   3   6   2   2   7   8   3  14  76   4   8  11   6   2   0   0\n",
            "    0   0   0   0]\n",
            " [  3   4   4   0   0   7   3   3   4  15   7  61  12   9   0   3   0   0\n",
            "    0   0   0   0]\n",
            " [  0   0   0   0   1   8   0   4   4   4   8   5  90   5   7   2   0   0\n",
            "    0   0   0   0]\n",
            " [  0   0   4   4   0   9   1   0   0   0   7   5  16  99   0   4   0   0\n",
            "    0   0   0   0]\n",
            " [  0   0   0   0   0   0   0   0   0   0   0   0   0   0 140   0   0   0\n",
            "    0   0   0   0]\n",
            " [  0   0   0   0   0   0   0   0   0   0   0   0   0   0   0 129   0   0\n",
            "    0   0   0   0]\n",
            " [  0   0   0   0   0   0   0   0   0   0   0   0   0   0   0   0 128   0\n",
            "    0   0   0   0]\n",
            " [  0   0   0   0   0   0   0   0   0   0   0   0   0   0   0   0   0 124\n",
            "    0   0   0   0]\n",
            " [  0   0   0   0   0   0   0   0   0   0   0   0   0   0   0   0   0   0\n",
            "  129   0   0   0]\n",
            " [  0   0   0   0   0   0   0   0   0   0   0   0   0   0   0   0   0   0\n",
            "    0 134   0   0]\n",
            " [  0   0   0   0   0   0   0   0   0   0   0   0   0   0   0   0   0   0\n",
            "    0   0 119   0]\n",
            " [  0   0   0   0   0   0   0   0   0   0   0   0   0   0   0   0   0   0\n",
            "    0   0   0 123]]\n",
            "Accuracy: 0.5344361917623227\n",
            "Precision: 0.5113067614422461\n",
            "Recall: 0.5344361917623227\n",
            "F1 Score: 0.516454455578407\n"
          ]
        }
      ],
      "source": [
        "from sklearn.metrics import classification_report, confusion_matrix, accuracy_score, precision_score, recall_score, f1_score\n",
        "\n",
        "# Generate classification report\n",
        "print(\"Classification Report:\")\n",
        "print(classification_report(y_test, predictions))\n",
        "\n",
        "# Generate confusion matrix\n",
        "print(\"Confusion Matrix:\")\n",
        "print(confusion_matrix(y_test, predictions))\n",
        "\n",
        "# Calculate accuracy\n",
        "accuracy = accuracy_score(y_test, predictions)\n",
        "print(\"Accuracy:\", accuracy)\n",
        "\n",
        "# Calculate precision\n",
        "precision = precision_score(y_test, predictions, average='weighted')\n",
        "print(\"Precision:\", precision)\n",
        "\n",
        "# Calculate recall\n",
        "recall = recall_score(y_test, predictions, average='weighted')\n",
        "print(\"Recall:\", recall)\n",
        "\n",
        "# Calculate F1 score\n",
        "f1 = f1_score(y_test, predictions, average='weighted')\n",
        "print(\"F1 Score:\", f1)\n"
      ]
    },
    {
      "cell_type": "markdown",
      "metadata": {
        "id": "84GloBb4pbm_"
      },
      "source": [
        "# **xgboost**"
      ]
    },
    {
      "cell_type": "code",
      "execution_count": 15,
      "metadata": {
        "colab": {
          "base_uri": "https://localhost:8080/"
        },
        "id": "pnmm1uIApbm_",
        "outputId": "5bcbc010-0e95-4013-ac3b-1e61351f1ad3"
      },
      "outputs": [
        {
          "output_type": "stream",
          "name": "stdout",
          "text": [
            "Accuracy: 0.035111411208642807\n"
          ]
        }
      ],
      "source": [
        "import xgboost as xgb\n",
        "from sklearn.metrics import accuracy_score\n",
        "\n",
        "# Adjust class labels to start from 0\n",
        "y_adjusted = y_train - min(y_train)\n",
        "\n",
        "# Initialize the XGBoost Classifier\n",
        "xgb_classifier = xgb.XGBClassifier(objective=\"multi:softmax\", num_class=len(set(y_adjusted)), seed=42, base_score=min(y_adjusted))\n",
        "\n",
        "# Train the model\n",
        "xgb_classifier.fit(X_train, y_adjusted)\n",
        "\n",
        "# Make predictions on the test set\n",
        "predictions = xgb_classifier.predict(X_test)\n",
        "\n",
        "# Calculate accuracy\n",
        "accuracy = accuracy_score(y_test, predictions)\n",
        "print(\"Accuracy:\", accuracy)\n"
      ]
    },
    {
      "cell_type": "markdown",
      "source": [
        "# **Cat Boost**"
      ],
      "metadata": {
        "id": "6dHETcfPqC5x"
      }
    },
    {
      "cell_type": "code",
      "source": [
        "!pip install catboost"
      ],
      "metadata": {
        "colab": {
          "base_uri": "https://localhost:8080/"
        },
        "id": "5HpJXkUqrek7",
        "outputId": "dff9c9ad-1b24-45ea-8820-d757115116f5"
      },
      "execution_count": 17,
      "outputs": [
        {
          "output_type": "stream",
          "name": "stdout",
          "text": [
            "Collecting catboost\n",
            "  Downloading catboost-1.2.3-cp310-cp310-manylinux2014_x86_64.whl (98.5 MB)\n",
            "\u001b[2K     \u001b[90m━━━━━━━━━━━━━━━━━━━━━━━━━━━━━━━━━━━━━━━━\u001b[0m \u001b[32m98.5/98.5 MB\u001b[0m \u001b[31m6.4 MB/s\u001b[0m eta \u001b[36m0:00:00\u001b[0m\n",
            "\u001b[?25hRequirement already satisfied: graphviz in /usr/local/lib/python3.10/dist-packages (from catboost) (0.20.3)\n",
            "Requirement already satisfied: matplotlib in /usr/local/lib/python3.10/dist-packages (from catboost) (3.7.1)\n",
            "Requirement already satisfied: numpy>=1.16.0 in /usr/local/lib/python3.10/dist-packages (from catboost) (1.25.2)\n",
            "Requirement already satisfied: pandas>=0.24 in /usr/local/lib/python3.10/dist-packages (from catboost) (1.5.3)\n",
            "Requirement already satisfied: scipy in /usr/local/lib/python3.10/dist-packages (from catboost) (1.11.4)\n",
            "Requirement already satisfied: plotly in /usr/local/lib/python3.10/dist-packages (from catboost) (5.15.0)\n",
            "Requirement already satisfied: six in /usr/local/lib/python3.10/dist-packages (from catboost) (1.16.0)\n",
            "Requirement already satisfied: python-dateutil>=2.8.1 in /usr/local/lib/python3.10/dist-packages (from pandas>=0.24->catboost) (2.8.2)\n",
            "Requirement already satisfied: pytz>=2020.1 in /usr/local/lib/python3.10/dist-packages (from pandas>=0.24->catboost) (2023.4)\n",
            "Requirement already satisfied: contourpy>=1.0.1 in /usr/local/lib/python3.10/dist-packages (from matplotlib->catboost) (1.2.0)\n",
            "Requirement already satisfied: cycler>=0.10 in /usr/local/lib/python3.10/dist-packages (from matplotlib->catboost) (0.12.1)\n",
            "Requirement already satisfied: fonttools>=4.22.0 in /usr/local/lib/python3.10/dist-packages (from matplotlib->catboost) (4.50.0)\n",
            "Requirement already satisfied: kiwisolver>=1.0.1 in /usr/local/lib/python3.10/dist-packages (from matplotlib->catboost) (1.4.5)\n",
            "Requirement already satisfied: packaging>=20.0 in /usr/local/lib/python3.10/dist-packages (from matplotlib->catboost) (24.0)\n",
            "Requirement already satisfied: pillow>=6.2.0 in /usr/local/lib/python3.10/dist-packages (from matplotlib->catboost) (9.4.0)\n",
            "Requirement already satisfied: pyparsing>=2.3.1 in /usr/local/lib/python3.10/dist-packages (from matplotlib->catboost) (3.1.2)\n",
            "Requirement already satisfied: tenacity>=6.2.0 in /usr/local/lib/python3.10/dist-packages (from plotly->catboost) (8.2.3)\n",
            "Installing collected packages: catboost\n",
            "Successfully installed catboost-1.2.3\n"
          ]
        }
      ]
    },
    {
      "cell_type": "code",
      "execution_count": 18,
      "metadata": {
        "colab": {
          "base_uri": "https://localhost:8080/"
        },
        "id": "UoJJOtwwpbnA",
        "outputId": "bfe1020e-f6a4-4189-cb5f-59ca9dec5c66"
      },
      "outputs": [
        {
          "output_type": "stream",
          "name": "stdout",
          "text": [
            "0:\tlearn: 2.8053056\ttotal: 122ms\tremaining: 12.1s\n",
            "99:\tlearn: 1.4393160\ttotal: 8.49s\tremaining: 0us\n",
            "Accuracy: 0.5074274139095206\n"
          ]
        }
      ],
      "source": [
        "from catboost import CatBoostClassifier\n",
        "from sklearn.model_selection import train_test_split\n",
        "from sklearn.metrics import accuracy_score\n",
        "\n",
        "# Initialize the CatBoost Classifier\n",
        "catboost_classifier = CatBoostClassifier(iterations=100, learning_rate=0.1, random_state=42)\n",
        "\n",
        "# Train the model\n",
        "catboost_classifier.fit(X_train, y_train, verbose=100)\n",
        "\n",
        "# Make predictions on the test set\n",
        "predictions = catboost_classifier.predict(X_test)\n",
        "\n",
        "# Calculate accuracy\n",
        "accuracy = accuracy_score(y_test, predictions)\n",
        "print(\"Accuracy:\", accuracy)\n"
      ]
    },
    {
      "cell_type": "markdown",
      "source": [
        "# **LGBM**"
      ],
      "metadata": {
        "id": "ZfruAOIwqKAT"
      }
    },
    {
      "cell_type": "code",
      "execution_count": 19,
      "metadata": {
        "colab": {
          "base_uri": "https://localhost:8080/"
        },
        "id": "ZjrAXKOCpbnA",
        "outputId": "9187b19a-3444-4f6b-ec23-67a466b45fc9"
      },
      "outputs": [
        {
          "output_type": "stream",
          "name": "stdout",
          "text": [
            "[LightGBM] [Info] Auto-choosing col-wise multi-threading, the overhead of testing was 0.028731 seconds.\n",
            "You can set `force_col_wise=true` to remove the overhead.\n",
            "[LightGBM] [Info] Total Bins 425\n",
            "[LightGBM] [Info] Number of data points in the train set: 11844, number of used features: 4\n",
            "[LightGBM] [Info] Start training from score -3.075128\n",
            "[LightGBM] [Info] Start training from score -3.147129\n",
            "[LightGBM] [Info] Start training from score -3.101055\n",
            "[LightGBM] [Info] Start training from score -3.076958\n",
            "[LightGBM] [Info] Start training from score -3.080627\n",
            "[LightGBM] [Info] Start training from score -3.127673\n",
            "[LightGBM] [Info] Start training from score -3.051640\n",
            "[LightGBM] [Info] Start training from score -3.121909\n",
            "[LightGBM] [Info] Start training from score -3.076958\n",
            "[LightGBM] [Info] Start training from score -3.073301\n",
            "[LightGBM] [Info] Start training from score -3.135410\n",
            "[LightGBM] [Info] Start training from score -3.091718\n",
            "[LightGBM] [Info] Start training from score -3.097310\n",
            "[LightGBM] [Info] Start training from score -3.118085\n",
            "[LightGBM] [Info] Start training from score -3.101055\n",
            "[LightGBM] [Info] Start training from score -3.080627\n",
            "[LightGBM] [Info] Start training from score -3.078791\n",
            "[LightGBM] [Info] Start training from score -3.071478\n",
            "[LightGBM] [Info] Start training from score -3.080627\n",
            "[LightGBM] [Info] Start training from score -3.089861\n",
            "[LightGBM] [Info] Start training from score -3.062412\n",
            "[LightGBM] [Info] Start training from score -3.069658\n",
            "[LightGBM] [Warning] No further splits with positive gain, best gain: -inf\n",
            "[LightGBM] [Warning] No further splits with positive gain, best gain: -inf\n",
            "[LightGBM] [Warning] No further splits with positive gain, best gain: -inf\n",
            "[LightGBM] [Warning] No further splits with positive gain, best gain: -inf\n",
            "[LightGBM] [Warning] No further splits with positive gain, best gain: -inf\n",
            "[LightGBM] [Warning] No further splits with positive gain, best gain: -inf\n",
            "[LightGBM] [Warning] No further splits with positive gain, best gain: -inf\n",
            "[LightGBM] [Warning] No further splits with positive gain, best gain: -inf\n",
            "[LightGBM] [Warning] No further splits with positive gain, best gain: -inf\n",
            "[LightGBM] [Warning] No further splits with positive gain, best gain: -inf\n",
            "[LightGBM] [Warning] No further splits with positive gain, best gain: -inf\n",
            "[LightGBM] [Warning] No further splits with positive gain, best gain: -inf\n",
            "[LightGBM] [Warning] No further splits with positive gain, best gain: -inf\n",
            "[LightGBM] [Warning] No further splits with positive gain, best gain: -inf\n",
            "[LightGBM] [Warning] No further splits with positive gain, best gain: -inf\n",
            "[LightGBM] [Warning] No further splits with positive gain, best gain: -inf\n",
            "[LightGBM] [Warning] No further splits with positive gain, best gain: -inf\n",
            "[LightGBM] [Warning] No further splits with positive gain, best gain: -inf\n",
            "[LightGBM] [Warning] No further splits with positive gain, best gain: -inf\n",
            "[LightGBM] [Warning] No further splits with positive gain, best gain: -inf\n",
            "[LightGBM] [Warning] No further splits with positive gain, best gain: -inf\n",
            "[LightGBM] [Warning] No further splits with positive gain, best gain: -inf\n",
            "[LightGBM] [Warning] No further splits with positive gain, best gain: -inf\n",
            "[LightGBM] [Warning] No further splits with positive gain, best gain: -inf\n",
            "[LightGBM] [Warning] No further splits with positive gain, best gain: -inf\n",
            "[LightGBM] [Warning] No further splits with positive gain, best gain: -inf\n",
            "[LightGBM] [Warning] No further splits with positive gain, best gain: -inf\n",
            "[LightGBM] [Warning] No further splits with positive gain, best gain: -inf\n",
            "[LightGBM] [Warning] No further splits with positive gain, best gain: -inf\n",
            "[LightGBM] [Warning] No further splits with positive gain, best gain: -inf\n",
            "[LightGBM] [Warning] No further splits with positive gain, best gain: -inf\n",
            "[LightGBM] [Warning] No further splits with positive gain, best gain: -inf\n",
            "Accuracy: 0.6924375422012155\n"
          ]
        }
      ],
      "source": [
        "import lightgbm as lgb\n",
        "from sklearn.model_selection import train_test_split\n",
        "from sklearn.metrics import accuracy_score\n",
        "\n",
        "# Adjust class labels to start from 0\n",
        "y_train_adjusted = y_train - min(y_train)\n",
        "y_test_adjusted = y_test - min(y_test)\n",
        "\n",
        "# Convert the data into LightGBM dataset format\n",
        "train_data = lgb.Dataset(X_train, label=y_train_adjusted)\n",
        "test_data = lgb.Dataset(X_test, label=y_test_adjusted)\n",
        "\n",
        "# Set parameters for LightGBM\n",
        "parameters = {\n",
        "    'objective': 'multiclass',\n",
        "    'num_class': len(set(y_train_adjusted)),\n",
        "    'metric': 'multi_logloss',\n",
        "    'random_state': 42\n",
        "}\n",
        "\n",
        "# Train the model with early stopping\n",
        "num_round = 100\n",
        "bst = lgb.train(parameters, train_data, num_round, valid_sets=[test_data])\n",
        "\n",
        "# Make predictions on the test set\n",
        "predictions = bst.predict(X_test, num_iteration=bst.best_iteration)\n",
        "\n",
        "# Convert predictions to class labels\n",
        "predicted_labels = [list(x).index(max(x)) for x in predictions]\n",
        "\n",
        "# Calculate accuracy\n",
        "accuracy = accuracy_score(y_test_adjusted, predicted_labels)\n",
        "print(\"Accuracy:\", accuracy)\n"
      ]
    },
    {
      "cell_type": "markdown",
      "source": [
        "**Evaluating LGBM**"
      ],
      "metadata": {
        "id": "LbB0R14vt7ny"
      }
    },
    {
      "cell_type": "code",
      "execution_count": 20,
      "metadata": {
        "colab": {
          "base_uri": "https://localhost:8080/"
        },
        "id": "1-JZumvppbnB",
        "outputId": "173c2dfa-0bd7-4b33-a089-1730debd95e3"
      },
      "outputs": [
        {
          "output_type": "stream",
          "name": "stdout",
          "text": [
            "Accuracy: 0.6924375422012155\n",
            "\n",
            "Classification Report:\n",
            "              precision    recall  f1-score   support\n",
            "\n",
            "           0       0.25      0.30      0.27       126\n",
            "           1       0.31      0.22      0.26       164\n",
            "           2       0.19      0.16      0.18       140\n",
            "           3       0.16      0.12      0.14       127\n",
            "           4       0.25      0.24      0.24       129\n",
            "           5       0.49      0.37      0.42       154\n",
            "           6       0.37      0.37      0.37       113\n",
            "           7       0.52      0.44      0.48       151\n",
            "           8       0.55      0.68      0.61       127\n",
            "           9       0.55      0.73      0.63       125\n",
            "          10       0.77      0.84      0.81       158\n",
            "          11       0.75      0.88      0.81       135\n",
            "          12       0.91      1.00      0.95       138\n",
            "          13       0.94      1.00      0.97       149\n",
            "          14       1.00      1.00      1.00       140\n",
            "          15       0.98      1.00      0.99       129\n",
            "          16       0.99      1.00      1.00       128\n",
            "          17       1.00      1.00      1.00       124\n",
            "          18       1.00      1.00      1.00       129\n",
            "          19       0.98      1.00      0.99       134\n",
            "          20       1.00      1.00      1.00       119\n",
            "          21       1.00      1.00      1.00       123\n",
            "\n",
            "    accuracy                           0.69      2962\n",
            "   macro avg       0.68      0.70      0.69      2962\n",
            "weighted avg       0.68      0.69      0.68      2962\n",
            "\n",
            "\n",
            "Confusion Matrix:\n",
            "[[ 38  17  18  15   9   5   6   5   3   5   2   3   0   0   0   0   0   0\n",
            "    0   0   0   0]\n",
            " [ 30  36  21  12  15   8   9  10   7   5   4   5   0   1   0   1   0   0\n",
            "    0   0   0   0]\n",
            " [ 30  12  23   9  17   5   9   9   7   9   4   2   4   0   0   0   0   0\n",
            "    0   0   0   0]\n",
            " [ 15  11  14  15  15  12  17   6   4   5   6   5   1   1   0   0   0   0\n",
            "    0   0   0   0]\n",
            " [ 14  13   7  12  31   7   5  11  12   9   3   2   2   1   0   0   0   0\n",
            "    0   0   0   0]\n",
            " [  7  10  10  11  13  57   7   6   7  13   2   8   1   1   0   1   0   0\n",
            "    0   0   0   0]\n",
            " [  9   7   8   7   6   4  42   5   9   5   4   3   2   1   0   0   1   0\n",
            "    0   0   0   0]\n",
            " [  4   4  12   4   9   7   3  67  11  10   4   8   4   1   0   0   0   0\n",
            "    0   3   0   0]\n",
            " [  4   4   2   1   5   4   2   4  86   8   4   2   0   1   0   0   0   0\n",
            "    0   0   0   0]\n",
            " [  0   1   1   6   3   4   6   1   4  91   6   1   0   1   0   0   0   0\n",
            "    0   0   0   0]\n",
            " [  0   1   1   1   1   1   5   6   3   4 133   1   0   1   0   0   0   0\n",
            "    0   0   0   0]\n",
            " [  2   0   2   0   2   2   3   0   3   1   0 119   0   0   0   1   0   0\n",
            "    0   0   0   0]\n",
            " [  0   0   0   0   0   0   0   0   0   0   0   0 138   0   0   0   0   0\n",
            "    0   0   0   0]\n",
            " [  0   0   0   0   0   0   0   0   0   0   0   0   0 149   0   0   0   0\n",
            "    0   0   0   0]\n",
            " [  0   0   0   0   0   0   0   0   0   0   0   0   0   0 140   0   0   0\n",
            "    0   0   0   0]\n",
            " [  0   0   0   0   0   0   0   0   0   0   0   0   0   0   0 129   0   0\n",
            "    0   0   0   0]\n",
            " [  0   0   0   0   0   0   0   0   0   0   0   0   0   0   0   0 128   0\n",
            "    0   0   0   0]\n",
            " [  0   0   0   0   0   0   0   0   0   0   0   0   0   0   0   0   0 124\n",
            "    0   0   0   0]\n",
            " [  0   0   0   0   0   0   0   0   0   0   0   0   0   0   0   0   0   0\n",
            "  129   0   0   0]\n",
            " [  0   0   0   0   0   0   0   0   0   0   0   0   0   0   0   0   0   0\n",
            "    0 134   0   0]\n",
            " [  0   0   0   0   0   0   0   0   0   0   0   0   0   0   0   0   0   0\n",
            "    0   0 119   0]\n",
            " [  0   0   0   0   0   0   0   0   0   0   0   0   0   0   0   0   0   0\n",
            "    0   0   0 123]]\n",
            "\n",
            "Precision: 0.6764708496876429\n",
            "Recall: 0.6924375422012155\n",
            "F1 Score: 0.6818604218102787\n"
          ]
        }
      ],
      "source": [
        "from sklearn.metrics import classification_report, confusion_matrix, accuracy_score, precision_score, recall_score, f1_score\n",
        "\n",
        "# Convert predictions to class labels\n",
        "predicted_labels = [list(x).index(max(x)) for x in predictions]\n",
        "\n",
        "# Calculate accuracy\n",
        "accuracy = accuracy_score(y_test_adjusted, predicted_labels)\n",
        "print(\"Accuracy:\", accuracy)\n",
        "\n",
        "# Generate classification report\n",
        "print(\"\\nClassification Report:\")\n",
        "print(classification_report(y_test_adjusted, predicted_labels))\n",
        "\n",
        "# Generate confusion matrix\n",
        "print(\"\\nConfusion Matrix:\")\n",
        "print(confusion_matrix(y_test_adjusted, predicted_labels))\n",
        "\n",
        "# Calculate precision\n",
        "precision = precision_score(y_test_adjusted, predicted_labels, average='weighted')\n",
        "print(\"\\nPrecision:\", precision)\n",
        "\n",
        "# Calculate recall\n",
        "recall = recall_score(y_test_adjusted, predicted_labels, average='weighted')\n",
        "print(\"Recall:\", recall)\n",
        "\n",
        "# Calculate F1 score\n",
        "f1 = f1_score(y_test_adjusted, predicted_labels, average='weighted')\n",
        "print(\"F1 Score:\", f1)\n"
      ]
    },
    {
      "cell_type": "markdown",
      "source": [
        "# **So as we can see LGBM has the highest accuracy,f1,recall,precision over other algorithms .So we finalize it as the final model**"
      ],
      "metadata": {
        "id": "OI276tDnq_Js"
      }
    },
    {
      "cell_type": "code",
      "source": [
        "# Save the trained model in both .pkl and .sav formats using joblib\n",
        "model_filename_pkl = \"my_trained_lightgbm_model.pkl\"\n",
        "model_filename_sav = \"my_trained_lightgbm_model.sav\"\n",
        "\n",
        "import joblib\n",
        "joblib.dump(bst, model_filename_pkl)\n",
        "joblib.dump(bst, model_filename_sav)\n",
        "\n",
        "print(f\"Model saved to: {model_filename_pkl}\")\n",
        "print(f\"Model saved to: {model_filename_sav}\")"
      ],
      "metadata": {
        "colab": {
          "base_uri": "https://localhost:8080/"
        },
        "id": "Wdxyd23psgNz",
        "outputId": "b016d2d5-5a16-41aa-b477-6a8957cb1396"
      },
      "execution_count": 21,
      "outputs": [
        {
          "output_type": "stream",
          "name": "stdout",
          "text": [
            "Model saved to: my_trained_lightgbm_model.pkl\n",
            "Model saved to: my_trained_lightgbm_model.sav\n"
          ]
        }
      ]
    }
  ],
  "metadata": {
    "kernelspec": {
      "display_name": "Python 3",
      "language": "python",
      "name": "python3"
    },
    "language_info": {
      "codemirror_mode": {
        "name": "ipython",
        "version": 3
      },
      "file_extension": ".py",
      "mimetype": "text/x-python",
      "name": "python",
      "nbconvert_exporter": "python",
      "pygments_lexer": "ipython3",
      "version": "3.11.1"
    },
    "colab": {
      "provenance": []
    }
  },
  "nbformat": 4,
  "nbformat_minor": 0
}